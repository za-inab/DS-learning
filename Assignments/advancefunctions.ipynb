{
 "cells": [
  {
   "cell_type": "markdown",
   "metadata": {},
   "source": [
    "# Module 4: Advanced Functions Assignments\n",
    "## Lesson 4.1: Defining Functions\n",
    "### Assignment 1: Fibonacci Sequence with Memoization\n",
    "\n",
    "Define a recursive function to calculate the nth Fibonacci number using memoization. Test the function with different inputs.\n",
    "\n",
    "### Assignment 2: Function with Nested Default Arguments\n",
    "\n",
    "Define a function that takes two arguments, a and b, where b is a dictionary with a default value of an empty dictionary. The function should add a new key-value pair to the dictionary and return it. Test the function with different inputs.\n",
    "\n",
    "### Assignment 3: Function with Variable Keyword Arguments\n",
    "\n",
    "Define a function that takes a variable number of keyword arguments and returns a dictionary containing only those key-value pairs where the value is an integer. Test the function with different inputs.\n",
    "\n",
    "### Assignment 4: Function with Callback\n",
    "\n",
    "Define a function that takes another function as a callback and a list of integers. The function should apply the callback to each integer in the list and return a new list with the results. Test with different callback functions.\n",
    "\n",
    "### Assignment 5: Function that Returns a Function\n",
    "\n",
    "Define a function that returns another function. The returned function should take an integer and return its square. Test the returned function with different inputs.\n",
    "\n",
    "### Assignment 6: Function with Decorators\n",
    "\n",
    "Define a function that calculates the time taken to execute another function. Apply this decorator to a function that performs a complex calculation. Test the decorated function with different inputs.\n",
    "\n",
    "### Assignment 7: Higher-Order Function for Filtering and Mapping\n",
    "\n",
    "Define a higher-order function that takes two functions, a filter function and a map function, along with a list of integers. The higher-order function should first filter the integers using the filter function and then apply the map function to the filtered integers. Test with different filter and map functions.\n",
    "\n",
    "### Assignment 8: Function Composition\n",
    "\n",
    "Define a function that composes two functions, f and g, such that the result is f(g(x)). Test with different functions f and g.\n",
    "\n",
    "### Assignment 9: Partial Function Application\n",
    "\n",
    "Use the functools.partial function to create a new function that multiplies its input by 2. Test the new function with different inputs.\n",
    "\n",
    "### Assignment 10: Function with Error Handling\n",
    "\n",
    "Define a function that takes a list of integers and returns their average. The function should handle any errors that occur (e.g., empty list) and return None in such cases. Test with different inputs.\n",
    "\n",
    "### Assignment 11: Function with Generators\n",
    "\n",
    "Define a function that generates an infinite sequence of Fibonacci numbers. Test by printing the first 10 numbers in the sequence.\n",
    "\n",
    "### Assignment 12: Currying\n",
    "\n",
    "Define a curried function that takes three arguments, one at a time, and returns their product. Test the function by providing arguments one at a time.\n",
    "\n",
    "### Assignment 13: Function with Context Manager\n",
    "\n",
    "Define a function that uses a context manager to write a list of integers to a file. The function should handle any errors that occur during file operations. Test with different lists.\n",
    "\n",
    "### Assignment 14: Function with Multiple Return Types\n",
    "\n",
    "Define a function that takes a list of mixed data types (integers, strings, and floats) and returns three lists: one containing all the integers, one containing all the strings, and one containing all the floats. Test with different inputs.\n",
    "\n",
    "### Assignment 15: Function with State\n",
    "\n",
    "Define a function that maintains state between calls using a mutable default argument. The function should keep track of how many times it has been called. Test by calling the function multiple times."
   ]
  },
  {
   "cell_type": "code",
   "execution_count": null,
   "metadata": {},
   "outputs": [],
   "source": []
  }
 ],
 "metadata": {
  "kernelspec": {
   "display_name": "Python 3",
   "language": "python",
   "name": "python3"
  },
  "language_info": {
   "codemirror_mode": {
    "name": "ipython",
    "version": 3
   },
   "file_extension": ".py",
   "mimetype": "text/x-python",
   "name": "python",
   "nbconvert_exporter": "python",
   "pygments_lexer": "ipython3",
   "version": "3.9.7"
  }
 },
 "nbformat": 4,
 "nbformat_minor": 5
}
