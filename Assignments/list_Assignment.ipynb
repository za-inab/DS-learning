{
 "cells": [
  {
   "cell_type": "markdown",
   "metadata": {},
   "source": [
    "# Module 3: Data Structures Assignments\n",
    "## Lesson 3.1: Lists\n",
    "### Assignment 1: Creating and Accessing Lists\n",
    "\n",
    "Create a list of the first 20 positive integers. Print the list.\n",
    "\n"
   ]
  },
  {
   "cell_type": "code",
   "execution_count": 2,
   "id": "6a1c2a58",
   "metadata": {},
   "outputs": [],
   "source": [
    "import random"
   ]
  },
  {
   "cell_type": "code",
   "execution_count": 2,
   "id": "045f3146",
   "metadata": {},
   "outputs": [
    {
     "name": "stdout",
     "output_type": "stream",
     "text": [
      "[0, 1, 2, 3, 4, 5, 6, 7, 8, 9, 10, 11, 12, 13, 14, 15, 16, 17, 18, 19, 20]\n"
     ]
    }
   ],
   "source": [
    "lst= [x for x in range(21)]\n",
    "print(lst)"
   ]
  },
  {
   "cell_type": "markdown",
   "id": "7a30c164",
   "metadata": {},
   "source": [
    "\n",
    "### Assignment 2: Accessing List Elements\n",
    "\n",
    "Print the first, middle, and last elements of the list created in Assignment 1."
   ]
  },
  {
   "cell_type": "code",
   "execution_count": 3,
   "id": "4cb05869",
   "metadata": {},
   "outputs": [
    {
     "name": "stdout",
     "output_type": "stream",
     "text": [
      "0\n",
      "20\n",
      "10\n"
     ]
    }
   ],
   "source": [
    "print(lst[0])\n",
    "print(lst[-1])\n",
    "print(lst[len(lst)//2])"
   ]
  },
  {
   "cell_type": "markdown",
   "id": "fa456649",
   "metadata": {},
   "source": [
    "\n",
    "\n",
    "### Assignment 3: List Slicing\n",
    "\n",
    "Print the first five elements, the last five elements, and the elements from index 5 to 15 of the list created in Assignment 1."
   ]
  },
  {
   "cell_type": "code",
   "execution_count": 4,
   "id": "592fdfd5",
   "metadata": {},
   "outputs": [
    {
     "name": "stdout",
     "output_type": "stream",
     "text": [
      "[0, 1, 2, 3, 4]\n",
      "[5, 6, 7, 8, 9, 10, 11, 12, 13, 14]\n",
      "[16, 17, 18, 19, 20]\n"
     ]
    }
   ],
   "source": [
    "print(lst[:5])\n",
    "print(lst[5:15])\n",
    "print(lst[-5:])"
   ]
  },
  {
   "cell_type": "markdown",
   "id": "275f67c4",
   "metadata": {},
   "source": [
    "\n",
    "\n",
    "### Assignment 4: List Comprehensions\n",
    "\n",
    "Create a new list containing the squares of the first 10 positive integers using a list comprehension. Print the new list."
   ]
  },
  {
   "cell_type": "code",
   "execution_count": 5,
   "id": "9c2f2c9c",
   "metadata": {},
   "outputs": [
    {
     "name": "stdout",
     "output_type": "stream",
     "text": [
      "[1, 4, 9, 16, 25, 36, 49, 64, 81, 100]\n"
     ]
    }
   ],
   "source": [
    "lst_2=[x**2 for x in range(1,11)]\n",
    "print(lst_2)"
   ]
  },
  {
   "cell_type": "markdown",
   "id": "be81532d",
   "metadata": {},
   "source": [
    "\n",
    "\n",
    "### Assignment 5: Filtering Lists\n",
    "\n",
    "Create a new list containing only the even numbers from the list created in Assignment 1 using a list comprehension. Print the new list."
   ]
  },
  {
   "cell_type": "code",
   "execution_count": 6,
   "id": "5b707340",
   "metadata": {},
   "outputs": [
    {
     "name": "stdout",
     "output_type": "stream",
     "text": [
      "[2, 4, 6, 8, 10]\n"
     ]
    }
   ],
   "source": [
    "lst_even=[x for x in range(1,11) if x%2==0 ]\n",
    "print(lst_even)"
   ]
  },
  {
   "cell_type": "markdown",
   "id": "dc635ae3",
   "metadata": {},
   "source": [
    "### Assignment 6: List Methods\n",
    "\n",
    "Create a list of random numbers and sort it in ascending and descending order. Remove the duplicates from the list and print the modified list."
   ]
  },
  {
   "cell_type": "code",
   "execution_count": 7,
   "id": "45e41bff",
   "metadata": {},
   "outputs": [
    {
     "name": "stdout",
     "output_type": "stream",
     "text": [
      "[3, 84, 29, 13, 45, 68, 2, 95, 31, 7]\n",
      "[2, 3, 7, 13, 29, 31, 45, 68, 84, 95]\n",
      "[95, 84, 68, 45, 31, 29, 13, 7, 3, 2]\n",
      "[2, 3, 68, 7, 45, 13, 84, 29, 95, 31]\n"
     ]
    }
   ],
   "source": [
    "import random\n",
    "lst_random=[random.randint(1,99) for x in range(10)]\n",
    "asc=lst_random.copy()\n",
    "asc.sort()\n",
    "des=sorted(lst_random,reverse=True)\n",
    "des.sort(reverse=True)\n",
    "print(lst_random)\n",
    "print(asc)\n",
    "print(des)\n",
    "\n",
    "unique_lst=list(set(des))\n",
    "print(unique_lst)"
   ]
  },
  {
   "cell_type": "markdown",
   "id": "7d4bd408",
   "metadata": {},
   "source": [
    "\n",
    "### Assignment 7: Nested Lists\n",
    "\n",
    "Create a nested list representing a 3x3 matrix and print the matrix. Access and print the element at the second row and third column."
   ]
  },
  {
   "cell_type": "code",
   "execution_count": 8,
   "id": "8d5d3c91",
   "metadata": {},
   "outputs": [
    {
     "name": "stdout",
     "output_type": "stream",
     "text": [
      "[[0, 0, 0], [1, 0, 0], [2, 0, 0]]\n",
      "0\n"
     ]
    }
   ],
   "source": [
    "nested_lst=[[i,j,k] for i in range(3) for j in range(1) for k in range(1)]\n",
    "print(nested_lst)\n",
    "print(nested_lst[1][2])"
   ]
  },
  {
   "cell_type": "markdown",
   "id": "8394e1a6",
   "metadata": {},
   "source": [
    "### Assignment 8: List of Dictionaries\n",
    "\n",
    "Create a list of dictionaries where each dictionary represents a student with keys 'name' and 'score'. Sort the list of dictionaries by the 'score' in descending order and print the sorted list."
   ]
  },
  {
   "cell_type": "code",
   "execution_count": 9,
   "id": "854387e2",
   "metadata": {},
   "outputs": [
    {
     "name": "stdout",
     "output_type": "stream",
     "text": [
      "[{'name': 'Sam', 'score': 78}, {'name': 'Krish', 'score': 9}, {'name': 'Arnold', 'score': 0}]\n"
     ]
    }
   ],
   "source": [
    "dict_list=[{'name':'Sam', 'score':78},{'name':'Arnold', 'score':0},{'name':'Krish', 'score':9}]\n",
    "dict_list.sort(key=lambda x:x['score'],reverse=True)\n",
    "print(dict_list)"
   ]
  },
  {
   "cell_type": "markdown",
   "id": "e2fda79d",
   "metadata": {},
   "source": [
    "\n",
    "### Assignment 9: Matrix Transposition\n",
    "\n",
    "Write a function that takes a 3x3 matrix (nested list) as input and returns its transpose. Print the original and transposed matrices."
   ]
  },
  {
   "cell_type": "code",
   "execution_count": 10,
   "id": "f3580645",
   "metadata": {},
   "outputs": [
    {
     "name": "stdout",
     "output_type": "stream",
     "text": [
      "[[1, 2, 3], [4, 5, 6], [7, 8, 9]]\n",
      "transpose: [[1, 4, 7], [2, 5, 8], [3, 6, 9]]\n"
     ]
    }
   ],
   "source": [
    "my_matrix=[[1,2,3],[4,5,6],[7,8,9]]\n",
    "\n",
    "def transpose(matrix=[[0,0,0],[0,0,0],[0,0,0]]):\n",
    "    return [[matrix[j][i] for j in range(3)] for i in range(3)]\n",
    "\n",
    "transpose_matrix=transpose(my_matrix)\n",
    "print(my_matrix)\n",
    "\n",
    "print('transpose:', transpose_matrix)\n"
   ]
  },
  {
   "cell_type": "markdown",
   "id": "ce054922",
   "metadata": {},
   "source": [
    "### Assignment 10: Flattening a Nested List\n",
    "\n",
    "Write a function that takes a nested list and flattens it into a single list. Print the original and flattened lists."
   ]
  },
  {
   "cell_type": "code",
   "execution_count": 11,
   "id": "2f241c24",
   "metadata": {},
   "outputs": [
    {
     "name": "stdout",
     "output_type": "stream",
     "text": [
      "[[1, 2, 3], [4, 5, 6], [7, 8, 9]]\n",
      "flat_list: [1, 2, 3, 4, 5, 6, 7, 8, 9]\n"
     ]
    }
   ],
   "source": [
    "my_matrix=[[1,2,3],[4,5,6],[7,8,9]]\n",
    "\n",
    "def flat_list (matrix=[[0,0,0],[0,0,0],[0,0,0]]) :\n",
    "    return [matrix[i][j] for i in range(3) for j in range(3)]\n",
    "\n",
    "faltened_list = flat_list(my_matrix)\n",
    "print(my_matrix)\n",
    "\n",
    "print('flat_list:', faltened_list)\n"
   ]
  },
  {
   "cell_type": "markdown",
   "id": "7844b64e",
   "metadata": {},
   "source": [
    "### Assignment 11: List Manipulation\n",
    "\n",
    "Create a list of the first 10 positive integers. Remove the elements at indices 2, 4, and 6, and insert the element '99' at index 5. Print the modified list.\n"
   ]
  },
  {
   "cell_type": "code",
   "execution_count": 12,
   "id": "ac64d1e0",
   "metadata": {},
   "outputs": [
    {
     "name": "stdout",
     "output_type": "stream",
     "text": [
      "[0, 1, 2, 3, 4, 5, 6, 7, 8, 9, 10]\n",
      "[0, 1, 3, 4, 5, 6, 7, 8, 9, 10]\n",
      "[0, 1, 3, 4, 6, 7, 8, 9, 10]\n",
      "[0, 1, 3, 4, 6, 7, 9, 10]\n",
      "[0, 1, 3, 4, 6, 99, 7, 9, 10]\n"
     ]
    }
   ],
   "source": [
    "lst=[x for x in range(11)]\n",
    "print(lst)\n",
    "lst.pop(2)\n",
    "print(lst)\n",
    "lst.pop(4)\n",
    "print(lst)\n",
    "lst.pop(6)\n",
    "print(lst)\n",
    "lst.insert(5,99)\n",
    "print(lst)"
   ]
  },
  {
   "cell_type": "markdown",
   "id": "c9157d4e",
   "metadata": {},
   "source": [
    "\n",
    "### Assignment 12: List Zipping\n",
    "\n",
    "Create two lists of the same length. Use the `zip` function to combine these lists into a list of tuples and print the result.\n"
   ]
  },
  {
   "cell_type": "code",
   "execution_count": 13,
   "id": "9178bc99",
   "metadata": {},
   "outputs": [
    {
     "name": "stdout",
     "output_type": "stream",
     "text": [
      "[(0, 0), (2, 1), (4, 2), (6, 3), (8, 4), (10, 5), (12, 6), (14, 7), (16, 8), (18, 9)]\n"
     ]
    }
   ],
   "source": [
    "lst_1=[x for x in range(0,20,2)]\n",
    "lst_2=[x for x in range(10)]\n",
    "\n",
    "com_lst=zip(lst_1,lst_2)\n",
    "print(list(com_lst))"
   ]
  },
  {
   "cell_type": "markdown",
   "id": "6e156e5b",
   "metadata": {},
   "source": [
    "### Assignment 13: List Reversal\n",
    "\n",
    "Write a function that takes a list and returns a new list with the elements in reverse order. Print the original and reversed lists.\n"
   ]
  },
  {
   "cell_type": "code",
   "execution_count": 14,
   "id": "e95e01d1",
   "metadata": {},
   "outputs": [
    {
     "name": "stdout",
     "output_type": "stream",
     "text": [
      "list [66, 40, 18, 72, 29, 55, 91, 85, 34, 29]\n",
      "sorted list [91, 85, 72, 66, 55, 40, 34, 29, 29, 18]\n"
     ]
    }
   ],
   "source": [
    "lst_1=[random.randint(0,99) for x in range(0,20,2)]\n",
    "def list_reversal(list):\n",
    "    return sorted(list, reverse=True)\n",
    "\n",
    "print(f'list {lst_1}')\n",
    "print(f'sorted list {list_reversal(lst_1)}')\n"
   ]
  },
  {
   "cell_type": "markdown",
   "id": "2b816f4f",
   "metadata": {},
   "source": [
    "### Assignment 14: List Rotation\n",
    "\n",
    "Write a function that rotates a list by n positions. Print the original and rotated lists.\n"
   ]
  },
  {
   "cell_type": "code",
   "execution_count": 15,
   "id": "4d7c8885",
   "metadata": {},
   "outputs": [
    {
     "name": "stdout",
     "output_type": "stream",
     "text": [
      "list [59, 68, 22, 52, 47, 29, 92, 45, 31, 43]\n",
      "rotated list [92, 45, 31, 43, 59, 68, 22, 52, 47, 29]\n"
     ]
    }
   ],
   "source": [
    "lst_1=[random.randint(0,99) for x in range(0,20,2)]\n",
    "def rotate_list(list,n):\n",
    "    limit=len(list)\n",
    "    return [list[x+6] if x+6<limit else list[(x+6)%limit] for x in range(limit)]\n",
    "\n",
    "print(f'list {lst_1}')\n",
    "print(f'rotated list {rotate_list(lst_1,6)}')\n"
   ]
  },
  {
   "cell_type": "markdown",
   "id": "dfef9d0a",
   "metadata": {},
   "source": [
    "### Assignment 15: List Intersection\n",
    "\n",
    "Write a function that takes two lists and returns a new list containing only the elements that are present in both lists. Print the intersected list.\n"
   ]
  },
  {
   "cell_type": "code",
   "execution_count": null,
   "metadata": {},
   "outputs": [
    {
     "name": "stdout",
     "output_type": "stream",
     "text": [
      "list1 [49, 79, 67, 78, 38, 90, 68, 51, 11, 32]\n",
      "list2 [40, 6, 53, 6, 79, 84, 20, 69, 85, 86]\n",
      "common element [79]\n"
     ]
    },
    {
     "ename": "",
     "evalue": "",
     "output_type": "error",
     "traceback": [
      "\u001b[1;31mThe Kernel crashed while executing code in the current cell or a previous cell. \n",
      "\u001b[1;31mPlease review the code in the cell(s) to identify a possible cause of the failure. \n",
      "\u001b[1;31mClick <a href='https://aka.ms/vscodeJupyterKernelCrash'>here</a> for more info. \n",
      "\u001b[1;31mView Jupyter <a href='command:jupyter.viewOutput'>log</a> for further details."
     ]
    }
   ],
   "source": [
    "lst_1=[random.randint(0,99) for x in range(0,20,2)]\n",
    "lst_2=[random.randint(0,99) for x in range(0,20,2)]\n",
    "\n",
    "def common_ele(list1,list2):\n",
    "    return [x for x in list1 if x in list2]\n",
    "\n",
    "print(f'list1 {lst_1}')\n",
    "print(f'list2 {lst_2}')\n",
    "print(f'common element {common_ele(lst_1,lst_2)}')\n"
   ]
  }
 ],
 "metadata": {
  "kernelspec": {
   "display_name": "venv",
   "language": "python",
   "name": "python3"
  },
  "language_info": {
   "codemirror_mode": {
    "name": "ipython",
    "version": 3
   },
   "file_extension": ".py",
   "mimetype": "text/x-python",
   "name": "python",
   "nbconvert_exporter": "python",
   "pygments_lexer": "ipython3",
   "version": "3.10.18"
  }
 },
 "nbformat": 4,
 "nbformat_minor": 5
}
